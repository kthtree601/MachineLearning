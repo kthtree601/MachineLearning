{
 "metadata": {
  "language_info": {
   "codemirror_mode": {
    "name": "ipython",
    "version": 3
   },
   "file_extension": ".py",
   "mimetype": "text/x-python",
   "name": "python",
   "nbconvert_exporter": "python",
   "pygments_lexer": "ipython3",
   "version": "3.8.5"
  },
  "orig_nbformat": 4,
  "kernelspec": {
   "name": "python3",
   "display_name": "Python 3.8.5 64-bit ('base': conda)"
  },
  "interpreter": {
   "hash": "22bb53b43b3afb0848b0afa27adb8f2415fb61399be88b9ea69bd0b84fe58c05"
  }
 },
 "nbformat": 4,
 "nbformat_minor": 2,
 "cells": [
  {
   "source": [
    "- 앙상블 학습"
   ],
   "cell_type": "markdown",
   "metadata": {}
  },
  {
   "cell_type": "code",
   "execution_count": 1,
   "metadata": {},
   "outputs": [],
   "source": [
    "from sklearn.datasets import load_breast_cancer\n",
    "cancer = load_breast_cancer()"
   ]
  },
  {
   "cell_type": "code",
   "execution_count": 2,
   "metadata": {},
   "outputs": [],
   "source": [
    "from sklearn.preprocessing import MinMaxScaler\n",
    "scaler = MinMaxScaler()\n",
    "cancer_scaled = scaler.fit_transform(cancer.data)"
   ]
  },
  {
   "cell_type": "code",
   "execution_count": 3,
   "metadata": {},
   "outputs": [],
   "source": [
    "from sklearn.model_selection import train_test_split\n",
    "X_train, X_test, y_train, y_test = train_test_split(\n",
    "    cancer_scaled, cancer.target, stratify=cancer.target,\n",
    "    test_size=0.2, random_state=2021\n",
    ")"
   ]
  },
  {
   "source": [
    "### 앙상블 학습을 위한 분류기\n",
    "- 로지스틱 회귀\n",
    "- 서포트 벡터 머신\n",
    "- k 최근접 이웃"
   ],
   "cell_type": "markdown",
   "metadata": {}
  },
  {
   "cell_type": "code",
   "execution_count": 4,
   "metadata": {},
   "outputs": [],
   "source": [
    "from sklearn.linear_model import LogisticRegression\n",
    "from sklearn.svm import SVC\n",
    "from sklearn.neighbors import KNeighborsClassifier"
   ]
  },
  {
   "cell_type": "code",
   "execution_count": 5,
   "metadata": {},
   "outputs": [],
   "source": [
    "lr = LogisticRegression()\n",
    "svc = SVC()\n",
    "knn = KNeighborsClassifier()"
   ]
  },
  {
   "cell_type": "code",
   "execution_count": 6,
   "metadata": {},
   "outputs": [],
   "source": [
    "from sklearn.ensemble import VotingClassifier\n",
    "\n",
    "vo_clf = VotingClassifier(\n",
    "    estimators=[('LR',lr),('SVC',svc),('KNN',knn)],\n",
    "    voting='hard'\n",
    ")"
   ]
  },
  {
   "cell_type": "code",
   "execution_count": 7,
   "metadata": {},
   "outputs": [],
   "source": [
    "vo_clf.fit(X_train, y_train)\n",
    "pred = vo_clf.predict(X_test)"
   ]
  },
  {
   "cell_type": "code",
   "execution_count": 8,
   "metadata": {},
   "outputs": [
    {
     "output_type": "execute_result",
     "data": {
      "text/plain": [
       "0.9824561403508771"
      ]
     },
     "metadata": {},
     "execution_count": 8
    }
   ],
   "source": [
    "from sklearn.metrics import accuracy_score\n",
    "accuracy_score(y_test, pred)"
   ]
  },
  {
   "cell_type": "code",
   "execution_count": 9,
   "metadata": {},
   "outputs": [
    {
     "output_type": "stream",
     "name": "stdout",
     "text": [
      "LogisticRegression 정확도: 0.9825\nSVC 정확도: 0.9825\nKNeighborsClassifier 정확도: 0.9825\n"
     ]
    }
   ],
   "source": [
    "# 개별 모델의 학습/예측/평가\n",
    "for classifier in [lr,svc, knn]:\n",
    "    classifier.fit(X_train, y_train)\n",
    "    pred = classifier.predict(X_test)\n",
    "    acc = accuracy_score(y_test, pred)\n",
    "    classifier_name = classifier.__class__.__name__\n",
    "    print(f'{classifier_name} 정확도: {acc:.4f}')"
   ]
  },
  {
   "source": [
    "### 소프트 보팅 \n",
    "- 로지스틱 회귀\n",
    "- k최근접 이웃"
   ],
   "cell_type": "markdown",
   "metadata": {}
  },
  {
   "cell_type": "code",
   "execution_count": 10,
   "metadata": {},
   "outputs": [
    {
     "output_type": "execute_result",
     "data": {
      "text/plain": [
       "0.9824561403508771"
      ]
     },
     "metadata": {},
     "execution_count": 10
    }
   ],
   "source": [
    "vo_clf = VotingClassifier(\n",
    "    estimators=[('LR',lr),('KNN',knn)],\n",
    "    voting='soft'\n",
    ")\n",
    "vo_clf.fit(X_train, y_train)\n",
    "pred = vo_clf.predict(X_test)\n",
    "accuracy_score(y_test, pred)"
   ]
  },
  {
   "cell_type": "code",
   "execution_count": 11,
   "metadata": {},
   "outputs": [
    {
     "output_type": "execute_result",
     "data": {
      "text/plain": [
       "array([[3.81741108e-01, 6.18258892e-01],\n",
       "       [9.85814714e-01, 1.41852858e-02],\n",
       "       [1.93478251e-01, 8.06521749e-01],\n",
       "       [1.06673095e-02, 9.89332690e-01],\n",
       "       [2.74195491e-02, 9.72580451e-01],\n",
       "       [9.30322916e-01, 6.96770844e-02],\n",
       "       [3.39990385e-03, 9.96600096e-01],\n",
       "       [9.89140696e-01, 1.08593044e-02],\n",
       "       [5.37170015e-02, 9.46282999e-01],\n",
       "       [9.15335816e-01, 8.46641840e-02],\n",
       "       [9.94520071e-01, 5.47992883e-03],\n",
       "       [1.99503549e-02, 9.80049645e-01],\n",
       "       [1.16612555e-02, 9.88338744e-01],\n",
       "       [9.92385249e-01, 7.61475147e-03],\n",
       "       [3.02133809e-03, 9.96978662e-01],\n",
       "       [2.03397821e-02, 9.79660218e-01],\n",
       "       [2.95441394e-03, 9.97045586e-01],\n",
       "       [4.37869338e-01, 5.62130662e-01],\n",
       "       [3.66609434e-02, 9.63339057e-01],\n",
       "       [1.06760919e-02, 9.89323908e-01],\n",
       "       [3.31585268e-02, 9.66841473e-01],\n",
       "       [7.02909623e-01, 2.97090377e-01],\n",
       "       [6.26316282e-02, 9.37368372e-01],\n",
       "       [2.50973093e-01, 7.49026907e-01],\n",
       "       [1.44527867e-02, 9.85547213e-01],\n",
       "       [1.24138332e-02, 9.87586167e-01],\n",
       "       [3.09506091e-02, 9.69049391e-01],\n",
       "       [9.99943480e-01, 5.65201838e-05],\n",
       "       [8.99106677e-01, 1.00893323e-01],\n",
       "       [9.85638711e-01, 1.43612890e-02],\n",
       "       [2.59710489e-02, 9.74028951e-01],\n",
       "       [7.93262183e-01, 2.06737817e-01],\n",
       "       [9.89685451e-01, 1.03145487e-02],\n",
       "       [9.45223960e-02, 9.05477604e-01],\n",
       "       [2.17644708e-02, 9.78235529e-01],\n",
       "       [2.04943898e-01, 7.95056102e-01],\n",
       "       [3.12110382e-02, 9.68788962e-01],\n",
       "       [3.58535122e-02, 9.64146488e-01],\n",
       "       [3.88109095e-02, 9.61189090e-01],\n",
       "       [4.60269922e-03, 9.95397301e-01],\n",
       "       [2.01678836e-02, 9.79832116e-01],\n",
       "       [9.29786512e-01, 7.02134880e-02],\n",
       "       [9.94979092e-01, 5.02090786e-03],\n",
       "       [7.31338286e-01, 2.68661714e-01],\n",
       "       [6.27075181e-03, 9.93729248e-01],\n",
       "       [3.76358562e-02, 9.62364144e-01],\n",
       "       [5.60991584e-03, 9.94390084e-01],\n",
       "       [4.21641754e-03, 9.95783582e-01],\n",
       "       [1.52899684e-02, 9.84710032e-01],\n",
       "       [9.29657953e-01, 7.03420467e-02],\n",
       "       [1.68459988e-01, 8.31540012e-01],\n",
       "       [9.98125336e-01, 1.87466405e-03],\n",
       "       [6.92836880e-01, 3.07163120e-01],\n",
       "       [2.58002312e-02, 9.74199769e-01],\n",
       "       [1.18666848e-01, 8.81333152e-01],\n",
       "       [1.91871280e-02, 9.80812872e-01],\n",
       "       [4.02917097e-03, 9.95970829e-01],\n",
       "       [7.30099605e-01, 2.69900395e-01],\n",
       "       [9.97648828e-01, 2.35117219e-03],\n",
       "       [1.65106152e-02, 9.83489385e-01],\n",
       "       [3.24436947e-02, 9.67556305e-01],\n",
       "       [2.94092250e-02, 9.70590775e-01],\n",
       "       [9.99943760e-01, 5.62398741e-05],\n",
       "       [2.36781113e-02, 9.76321889e-01],\n",
       "       [4.63435102e-03, 9.95365649e-01],\n",
       "       [8.06380069e-01, 1.93619931e-01],\n",
       "       [1.47756170e-02, 9.85224383e-01],\n",
       "       [8.34494135e-03, 9.91655059e-01],\n",
       "       [9.78229636e-01, 2.17703640e-02],\n",
       "       [2.74997678e-03, 9.97250023e-01],\n",
       "       [1.98943308e-02, 9.80105669e-01],\n",
       "       [8.14150106e-03, 9.91858499e-01],\n",
       "       [9.74225689e-01, 2.57743107e-02],\n",
       "       [7.13393286e-02, 9.28660671e-01],\n",
       "       [2.46944395e-02, 9.75305560e-01],\n",
       "       [2.62655362e-02, 9.73734464e-01],\n",
       "       [9.93501131e-01, 6.49886933e-03],\n",
       "       [6.47338027e-02, 9.35266197e-01],\n",
       "       [2.68919042e-01, 7.31080958e-01],\n",
       "       [9.99595505e-01, 4.04495003e-04],\n",
       "       [9.99892279e-01, 1.07720537e-04],\n",
       "       [9.87497911e-01, 1.25020894e-02],\n",
       "       [1.29456357e-03, 9.98705436e-01],\n",
       "       [4.08316963e-02, 9.59168304e-01],\n",
       "       [5.97863408e-04, 9.99402137e-01],\n",
       "       [9.83411360e-01, 1.65886398e-02],\n",
       "       [4.02742817e-03, 9.95972572e-01],\n",
       "       [1.88217857e-02, 9.81178214e-01],\n",
       "       [8.19381984e-03, 9.91806180e-01],\n",
       "       [1.35949950e-03, 9.98640501e-01],\n",
       "       [9.86674271e-01, 1.33257291e-02],\n",
       "       [3.30879294e-03, 9.96691207e-01],\n",
       "       [9.27862781e-04, 9.99072137e-01],\n",
       "       [6.27477298e-02, 9.37252270e-01],\n",
       "       [8.36017080e-01, 1.63982920e-01],\n",
       "       [9.89527214e-01, 1.04727860e-02],\n",
       "       [8.62053828e-01, 1.37946172e-01],\n",
       "       [2.15747392e-03, 9.97842526e-01],\n",
       "       [9.99891938e-01, 1.08061583e-04],\n",
       "       [9.99036567e-01, 9.63433040e-04],\n",
       "       [9.99102142e-01, 8.97858444e-04],\n",
       "       [1.20939177e-02, 9.87906082e-01],\n",
       "       [9.44502436e-01, 5.54975642e-02],\n",
       "       [7.51837599e-01, 2.48162401e-01],\n",
       "       [9.36038413e-02, 9.06396159e-01],\n",
       "       [2.46852505e-02, 9.75314749e-01],\n",
       "       [1.20838775e-02, 9.87916122e-01],\n",
       "       [1.21062544e-01, 8.78937456e-01],\n",
       "       [9.50435167e-02, 9.04956483e-01],\n",
       "       [1.78515721e-02, 9.82148428e-01],\n",
       "       [2.81607717e-02, 9.71839228e-01],\n",
       "       [9.97317781e-01, 2.68221949e-03],\n",
       "       [9.07571229e-01, 9.24287712e-02],\n",
       "       [3.06489938e-03, 9.96935101e-01]])"
      ]
     },
     "metadata": {},
     "execution_count": 11
    }
   ],
   "source": [
    "vo_clf.predict_proba(X_test)"
   ]
  },
  {
   "cell_type": "code",
   "execution_count": null,
   "metadata": {},
   "outputs": [],
   "source": []
  }
 ]
}